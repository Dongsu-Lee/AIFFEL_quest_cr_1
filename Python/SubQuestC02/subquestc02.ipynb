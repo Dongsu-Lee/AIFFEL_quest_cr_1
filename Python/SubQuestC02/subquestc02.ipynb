{
 "cells": [
  {
   "cell_type": "code",
   "execution_count": 2,
   "metadata": {},
   "outputs": [
    {
     "name": "stdout",
     "output_type": "stream",
     "text": [
      "{'the': 365, 'tesseract': 32, 'has': 19, 'awakened': 1, 'it': 111, 'is': 124, 'on': 96, 'a': 224, 'neutral': 1, 'world': 20, 'human': 3, 'they': 37, 'wield': 2, 'its': 70, 'power': 16, 'but': 40, 'our': 20, 'ally': 1, 'knows': 8, 'working': 6, 'so': 32, 'that': 123, 'never': 10, 'will': 32, 'learn': 1, 'hes': 32, 'ready': 5, 'to': 224, 'lead': 4, 'and': 117, 'force': 6, 'chitauri': 4, 'follow': 2, 'be': 63, 'his': 33, 'universe': 2, 'yours': 2, 'humans': 4, 'what': 77, 'can': 37, 'do': 53, 'burn': 1, 'how': 33, 'bad': 3, 'thats': 26, 'problem': 2, 'sir': 25, 'we': 116, 'dont': 43, 'know': 59, 'dr': 11, 'selvig': 8, 'read': 3, 'an': 35, 'energy': 13, 'surge': 1, 'from': 27, 'four': 2, 'hour': 2, 'ago': 1, 'nasa': 1, 'didnt': 26, 'authorize': 1, 'pull': 5, 'test': 3, 'phase': 7, 'he': 78, 'wasnt': 3, 'testing': 1, 'even': 10, 'in': 96, 'room': 3, 'spontaneous': 1, 'advancement': 1, 'just': 36, 'turned': 1, 'itself': 4, 'are': 57, 'engine': 10, 'levels': 3, 'now': 32, 'climbing': 1, 'when': 17, 'couldnt': 3, 'shut': 8, 'down': 29, 'ordered': 1, 'evac': 2, 'long': 8, 'get': 41, 'everyone': 4, 'out': 53, 'campus': 1, 'should': 21, 'clear': 4, 'next': 6, 'half': 2, 'better': 7, 'evacuation': 1, 'maybe': 7}\n",
      "Top 10 words by frequency:\n",
      "1: you\n",
      "2: the\n",
      "3: i\n",
      "4: a\n",
      "5: to\n",
      "6: of\n",
      "7: is\n",
      "8: that\n",
      "9: and\n",
      "10: we\n",
      "The indices of the words in the input text are: [0]\n"
     ]
    }
   ],
   "source": [
    "import re\n",
    "from collections import defaultdict\n",
    "\n",
    "\n",
    "file_path = './Avengers.txt' \n",
    "\n",
    "# 3. 파일 읽기\n",
    "with open(file_path, 'r') as file:\n",
    "    text_content = file.read()\n",
    "\n",
    "# 4. 모든 문자를 소문자로 변환\n",
    "text_content = text_content.lower()\n",
    "\n",
    "# 5. 모든 기호 제거 (정규표현식 사용)\n",
    "text_content = re.sub(r'[^\\w\\s]', '', text_content)  # 공백은 유지하고, 알파벳과 숫자만 남깁니다.\n",
    "\n",
    "# 6. 단어 단위로 분리\n",
    "words = text_content.split()  # 공백을 기준으로 분리\n",
    "\n",
    "# 7. 각 단어별 빈도수를 딕셔너리 형태로 저장\n",
    "word_freq = defaultdict(int)\n",
    "for word in words:\n",
    "    word_freq[word] += 1\n",
    "\n",
    "print(dict(list(word_freq.items())[:100]))\n",
    "\n",
    "# 8. 딕셔너리를 빈도수순으로 내림차순으로 정렬하고 정수 인덱스 부여\n",
    "sorted_word_freq = sorted(word_freq.items(), key=lambda item: item[1], reverse=True)\n",
    "indexed_word_freq = {word: index for index, (word, freq) in enumerate(sorted_word_freq, start=1)}\n",
    "\n",
    "# 상위 10개의 단어와 빈도수 출력\n",
    "print(\"Top 10 words by frequency:\")\n",
    "for word, index in list(indexed_word_freq.items())[:10]:\n",
    "    print(f\"{index}: {word}\")\n",
    "\n",
    "# 9. input()으로 텍스트를 입력받아서 정수 인덱스를 반환하는 함수\n",
    "def text_to_index():\n",
    "    user_input = input(\"아무거나 입력하세요: \")\n",
    "    user_input = user_input.lower()\n",
    "    user_input = re.sub(r'[^\\w\\s]', '', user_input)\n",
    "    words = user_input.split()\n",
    "\n",
    "    # 입력된 단어들을 인덱스로 변환\n",
    "    indices = [indexed_word_freq.get(word, 0) for word in words]  # 해당 단어가 없으면 0 반환\n",
    "    return indices\n",
    "\n",
    "# 함수 실행 예시\n",
    "indices_result = text_to_index()\n",
    "print(f\"The indices of the words in the input text are: {indices_result}\")\n",
    "\n",
    "\n",
    "\n",
    "# 오류 수정 과정\n",
    "# 첫번째 오류\n",
    "# 문장을 넣으니 끝 단어 정수만 출력되었다. 37번째 줄에서 문장을 입력 받으면 전처리 후 단어 인덱스\n",
    "# 37번째 줄의 text_to_index() 함수에서 input()을 통해 \n",
    "# 사용자가 입력한 텍스트를 받아와, 전처리 후 각 단어를 인덱스로 변환함\n",
    "# 두번째 오류\n",
    "# 없는 단어를 넣으면 오류가 떠서 없는 단어를 입력 받았을 때는 0으로 뜨게 하였다.\n",
    "# defaultdict 라이브러리를 썼고, 입력창에서도 해당 단어가 없으면 0으로 반환.\n",
    "# 코딩 도장과 구글 검색과 GPT와 조원이신 김우찬 님과 함께 하였습니다. 빈공책을 채우기는 어려워도 자꾸 하니 코드를 읽고\n",
    "# 왜 이렇게 돌아가는지 읽기 능력이 계속 올라가는 느낌이다. 연습하여서 적는 것도 원활하게 만들 것이다."
   ]
  }
 ],
 "metadata": {
  "kernelspec": {
   "display_name": "Python 3",
   "language": "python",
   "name": "python3"
  },
  "language_info": {
   "codemirror_mode": {
    "name": "ipython",
    "version": 3
   },
   "file_extension": ".py",
   "mimetype": "text/x-python",
   "name": "python",
   "nbconvert_exporter": "python",
   "pygments_lexer": "ipython3",
   "version": "3.12.4"
  }
 },
 "nbformat": 4,
 "nbformat_minor": 2
}
