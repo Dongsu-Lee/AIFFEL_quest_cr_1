{
 "cells": [
  {
   "cell_type": "code",
   "execution_count": 7,
   "metadata": {},
   "outputs": [
    {
     "name": "stdout",
     "output_type": "stream",
     "text": [
      "랜덤 숫자 리스트: [11, 25, 98, 57, 52, 88, 89, 16, 64, 28]\n",
      "최솟값: 11\n",
      "최댓값: 98\n"
     ]
    }
   ],
   "source": [
    "import random\n",
    "\n",
    "def find_min_max(numbers):\n",
    "    # min_value와 max_value 변수를 초기화\n",
    "    # min_value는 양의 무한대(float('inf'))로 초기화하여 어떤 숫자보다도 큰 값으로 설정\n",
    "    min_value = float('inf')\n",
    "    # max_value는 음의 무한대(float('-inf'))로 초기화하여 어떤 숫자보다도 작은 값으로 설정\n",
    "    max_value = float('-inf')\n",
    "\n",
    "    def update_min_max(num):\n",
    "        # 외부함수의 변수인 min_value, max_value 참조\n",
    "        nonlocal min_value, max_value\n",
    "\n",
    "\n",
    "        # 만약 num 값이 min_value보다 작다면 min_value를 num 값으로 변경\n",
    "        if num < min_value:\n",
    "            min_value = num\n",
    "\n",
    "\n",
    "        # 만약 num 값이 max_value보다 크다면 max_value를 num 값으로 변경\n",
    "        if num > max_value:\n",
    "            max_value = num\n",
    "\n",
    "\n",
    "\n",
    "    # numbers 리스트의 모든 값을 순환하며 최댓값과 최솟값 업데이트\n",
    "    for num in numbers:\n",
    "        update_min_max(num)\n",
    "\n",
    "    # 최솟값을 반환하는 내부함수\n",
    "    def get_min():\n",
    "        return min_value\n",
    "\n",
    "\n",
    "    # 최댓값을 반환하는 내부함수\n",
    "    def get_max():\n",
    "        return max_value\n",
    "\n",
    "\n",
    "    # 외부함수는 내부함수(get_min()과 get_max())를 반환\n",
    "    return get_min, get_max\n",
    "\n",
    "numbers = [random.randint(1, 100) for _ in range(10)] #랜덤 모듈을 사용\n",
    "print(\"랜덤 숫자 리스트:\", numbers)\n",
    "find_min, find_max = find_min_max(numbers)\n",
    "\n",
    "print(\"최솟값:\", find_min())\n",
    "print(\"최댓값:\", find_max())\n"
   ]
  },
  {
   "cell_type": "code",
   "execution_count": 9,
   "metadata": {},
   "outputs": [
    {
     "name": "stdout",
     "output_type": "stream",
     "text": [
      "Hello Aiffel!\n",
      "say_hello 실행 횟수: 1\n",
      "Hello Aiffel!\n",
      "say_hello 실행 횟수: 2\n",
      "Hello Aiffel!\n",
      "say_hello 실행 횟수: 3\n",
      "Hello Aiffel!\n",
      "say_hello 실행 횟수: 4\n",
      "Hello Aiffel!\n",
      "say_hello 실행 횟수: 5\n"
     ]
    }
   ],
   "source": [
    "def counter(func): #데코레이터 함수\n",
    "    count = 0 #카운터 변수. 호출때마다 증가하기위해 0으로 설정\n",
    "\n",
    "    def wrapper(*args, **kwargs):  #*args(튜플로)와 **kwargs(딕셔너리로)는 함수에 전달되는 위치 인자와 키워드 인자를 유연하게 처리\n",
    "        nonlocal count #외부 함수의 변수를 참조 nonlocal\n",
    "        result = func(*args, **kwargs) #먼저 함수를 실행하고 결과를 저장\n",
    "        count += 1\n",
    "        print(f\"{func.__name__} 실행 횟수: {count}\") #실행 후에 횟수 출력\n",
    "        return result #원래 함수 결과 변환\n",
    "    return wrapper #데코 반환\n",
    "\n",
    "@counter #데코 사용, say_hello가 호출될때마다 데코적용된 wrapper함수 호출\n",
    "def say_hello():\n",
    "    print(\"Hello Aiffel!\")\n",
    "\n",
    "for i in range(5): #데코 함수 5번 호출\n",
    "    say_hello()"
   ]
  },
  {
   "cell_type": "markdown",
   "metadata": {},
   "source": [
    "회고\n",
    "==================\n",
    "--------------------\n",
    "\n",
    "#### 안진덕\n",
    "\n",
    "+ 문제 1번은 주석이 너무 잘 달려있어서 생각을 천천히 하면서 따라가니 따라갈 수 있었습니다. 어렴풋이 이해가 되기때문에 좀 더 많은 자료를 찾아서 선명하게 이해할 수 있도록 하여야겠습니다.\n",
    "\n",
    "+ 문제 2번은 실행 순서가 먼저 횟수를 세고 헬로 아이펠이 나와 당황했습니다. 함수가 먼저 실행되게 만든 다음에 횟수를 세도록 하여 문제를 해결하였습니다.\n",
    "\n",
    "+ 조원이신 강윤제님과 함께 재미있게 설계를 해보았습니다.\n",
    "-----------------------------------\n",
    "\n",
    "#### 강윤제\n",
    "\n",
    "+ 어제 클로저를 공부하며 벌벌 떨었던 것에 비해 1번 문제는 각 주석별로 따라 코드를 짜면 되서 다행히 쉽게 마칠 수 있었습니다. 다만 주석처리 없이도 할 수 있을지는 미지수기 때문에 좀더 공부 해봐야겠습니다.\n",
    "\n",
    "+ 2번 문제로 들어가 생각한대로 코딩을 해보니 받은 기능을 출력을 안해서 최종 출력값이 다르다던가, 함수 이름을 접근하는 법이 왜 있지 고민하는 등 여러 면이 막혀 생각이 돌아가질 않더군요. 조원이신 안직덕님 과 얘기하면서 뭐가 문제였고 어떤 부분을 추가해야지 작동하는지 의견을 나누니 쉽게 해결되었습니다.\n",
    "\n",
    "+ 조원 안진덕님 덕분에 막힌부분과 궁금한 부분을 해결해서 다행입니다.\n",
    "-----------------------------------"
   ]
  }
 ],
 "metadata": {
  "kernelspec": {
   "display_name": "Python 3",
   "language": "python",
   "name": "python3"
  },
  "language_info": {
   "codemirror_mode": {
    "name": "ipython",
    "version": 3
   },
   "file_extension": ".py",
   "mimetype": "text/x-python",
   "name": "python",
   "nbconvert_exporter": "python",
   "pygments_lexer": "ipython3",
   "version": "3.12.4"
  }
 },
 "nbformat": 4,
 "nbformat_minor": 2
}
